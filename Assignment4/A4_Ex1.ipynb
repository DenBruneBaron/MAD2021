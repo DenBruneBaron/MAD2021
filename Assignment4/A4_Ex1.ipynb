{
 "cells": [
  {
   "cell_type": "code",
   "execution_count": 32,
   "metadata": {},
   "outputs": [
    {
     "name": "stdout",
     "output_type": "stream",
     "text": [
      "[1896. 1900. 1904. 1906. 1908. 1912. 1920. 1924. 1928. 1932. 1936. 1948.\n",
      " 1952. 1956. 1960. 1964. 1968. 1972. 1976. 1980. 1984. 1988. 1992. 1996.\n",
      " 2000. 2004. 2008.]\n",
      "[12.   11.   11.   11.2  10.8  10.8  10.8  10.6  10.8  10.3  10.3  10.3\n",
      " 10.4  10.5  10.2  10.    9.95 10.14 10.06 10.25  9.99  9.92  9.96  9.84\n",
      "  9.87  9.85  9.69]\n",
      "1896.0\n",
      "[ 0.   1.   2.   2.5  3.   4.   6.   7.   8.   9.  10.  13.  14.  15.\n",
      " 16.  17.  18.  19.  20.  21.  22.  23.  24.  25.  26.  27.  28. ]\n"
     ]
    }
   ],
   "source": [
    "import numpy as np\n",
    "import matplotlib.pyplot as plt\n",
    "\n",
    "data = np.loadtxt(\"men-olympics-100.txt\", delimiter=\" \")\n",
    "\n",
    "# X is the olympic years\n",
    "X = data[:,0] \n",
    "# t is the runtimes for 1st places\n",
    "t = data[:,1]\n",
    "\n",
    "# first value of X\n",
    "x_1 = X[0]\n",
    "\n",
    "# Relative years to the first year (1896)\n",
    "relative_X = (X - x_1) / 4\n",
    "#print(data)\n",
    "#print(X_years)\n",
    "#print(t_runTimes)\n",
    "print(X)\n",
    "print(t)\n",
    "print(x_1)\n",
    "print(relative_X)"
   ]
  }
 ],
 "metadata": {
  "interpreter": {
   "hash": "a4fe9a7aa49da7f30e62b4fec1f4aa505596ad3901a02abfd818f434a1ca29ce"
  },
  "kernelspec": {
   "display_name": "Python 3.10.0 64-bit",
   "language": "python",
   "name": "python3"
  },
  "language_info": {
   "codemirror_mode": {
    "name": "ipython",
    "version": 3
   },
   "file_extension": ".py",
   "mimetype": "text/x-python",
   "name": "python",
   "nbconvert_exporter": "python",
   "pygments_lexer": "ipython3",
   "version": "3.10.0"
  },
  "orig_nbformat": 4
 },
 "nbformat": 4,
 "nbformat_minor": 2
}
