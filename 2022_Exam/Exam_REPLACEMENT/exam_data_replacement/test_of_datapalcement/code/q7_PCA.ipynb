{
 "cells": [
  {
   "cell_type": "code",
   "execution_count": 3,
   "metadata": {},
   "outputs": [
    {
     "ename": "ModuleNotFoundError",
     "evalue": "No module named 'q7_Clustering'",
     "output_type": "error",
     "traceback": [
      "\u001b[1;31m---------------------------------------------------------------------------\u001b[0m",
      "\u001b[1;31mModuleNotFoundError\u001b[0m                       Traceback (most recent call last)",
      "\u001b[1;32m~\\AppData\\Local\\Temp/ipykernel_12284/1934408603.py\u001b[0m in \u001b[0;36m<module>\u001b[1;34m\u001b[0m\n\u001b[0;32m     12\u001b[0m \u001b[1;31m# For some reason, this throws an error, but the code still runs as intended.\u001b[0m\u001b[1;33m\u001b[0m\u001b[1;33m\u001b[0m\u001b[0m\n\u001b[0;32m     13\u001b[0m \u001b[1;31m# if the code does NOT run, should be fixed by converting the q7_Clustering.ipynb file into a regular .py file\u001b[0m\u001b[1;33m\u001b[0m\u001b[1;33m\u001b[0m\u001b[0m\n\u001b[1;32m---> 14\u001b[1;33m \u001b[1;32mfrom\u001b[0m \u001b[0mq7_Clustering\u001b[0m \u001b[1;32mimport\u001b[0m \u001b[0mcentroids\u001b[0m\u001b[1;33m,\u001b[0m \u001b[0mcurrent_assignments\u001b[0m\u001b[1;33m,\u001b[0m \u001b[0mnormalized_data\u001b[0m \u001b[1;32mas\u001b[0m \u001b[0mfeatures\u001b[0m\u001b[1;33m\u001b[0m\u001b[1;33m\u001b[0m\u001b[0m\n\u001b[0m\u001b[0;32m     15\u001b[0m \u001b[1;33m\u001b[0m\u001b[0m\n",
      "\u001b[1;31mModuleNotFoundError\u001b[0m: No module named 'q7_Clustering'"
     ]
    }
   ],
   "source": [
    "# Modelling and Analysis of Data\n",
    "# Exam 2022 : Date  17th - 25th of January\n",
    "# Exam no: 39\n",
    "\n",
    "# Question 7 (K-means Clustering & Principal Component Analysis, 7 points)\n",
    "\n",
    "import numpy as np\n",
    "import matplotlib.pyplot as plt\n",
    "from matplotlib.colors import ListedColormap\n",
    "\n",
    "# I had to use 'pip install nbformat' to get this working\n",
    "# For some reason, this throws an error, but the code still runs as intended.\n",
    "# if the code does NOT run, should be fixed by converting the q7_Clustering.ipynb file into a regular .py file\n",
    "from q7_Clustering import centroids, current_assignments, normalized_data as features \n",
    "\n"
   ]
  },
  {
   "cell_type": "code",
   "execution_count": null,
   "metadata": {},
   "outputs": [],
   "source": [
    "def __PCA(data):\n",
    "    \"\"\"\n",
    "    Reused from A5 (modified slightly compared to my original submission in assignment 5)\n",
    "    \"\"\"\n",
    "    data_cent = data - np.mean(data)\n",
    "    cov_matrix = np.cov(data_cent.T)\n",
    "    PCevals, PCevecs = np.linalg.eigh(cov_matrix)\n",
    "    PCevals = np.flipud(PCevals) # vertical flip\n",
    "    PCevecs = np.flip(PCevecs, axis=1) # horisontal flip\n",
    "    return PCevals, PCevecs\n",
    "\n",
    "\n",
    "def __transformData(features, PCevecs):\n",
    "    \"\"\"\n",
    "    Reused from A5\n",
    "    \"\"\"\n",
    "    return np.dot(features,  PCevecs[:, 0:2])\n",
    "\n",
    "PCevals, PCevecs = __PCA(features)\n",
    "\n",
    "# Convert data to two dimemsions using PCA\n",
    "features2D = __transformData(features, PCevecs)\n",
    "centroids2D = __transformData(centroids, PCevecs)\n",
    "\n",
    "def __visualizeLabels(features, centroids, referenceLabels):\n",
    "    \"\"\"\n",
    "    From A5 (modified)\n",
    "    \"\"\"\n",
    "\n",
    "    plt.figure()\n",
    "    cmap_bold  = ListedColormap(['#FF0000', '#00FF00', '#0000FF'])\n",
    "    y = referenceLabels\n",
    "\n",
    "    plt.scatter(features[:, 0], features[:, 1], c = y, cmap = cmap_bold)\n",
    "    plt.scatter(centroids[:, 0], centroids[:,1], c = 'black', s=100)\n",
    "    plt.xlim(features[:, 0].min() - 0.1, features[:, 0].max() + 0.1)\n",
    "    plt.ylim(features[:, 1].min() - 0.1, features[:, 1].max() + 0.1)\n",
    "    plt.show()\n",
    "\n",
    "__visualizeLabels(features2D, centroids2D, current_assignments)\n"
   ]
  }
 ],
 "metadata": {
  "interpreter": {
   "hash": "a4fe9a7aa49da7f30e62b4fec1f4aa505596ad3901a02abfd818f434a1ca29ce"
  },
  "kernelspec": {
   "display_name": "Python 3.10.0 64-bit",
   "language": "python",
   "name": "python3"
  },
  "language_info": {
   "codemirror_mode": {
    "name": "ipython",
    "version": 3
   },
   "file_extension": ".py",
   "mimetype": "text/x-python",
   "name": "python",
   "nbconvert_exporter": "python",
   "pygments_lexer": "ipython3",
   "version": "3.10.0"
  },
  "orig_nbformat": 4
 },
 "nbformat": 4,
 "nbformat_minor": 2
}
