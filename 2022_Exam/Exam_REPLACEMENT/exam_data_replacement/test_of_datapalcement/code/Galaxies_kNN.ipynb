{
 "cells": [
  {
   "cell_type": "code",
   "execution_count": 5,
   "metadata": {},
   "outputs": [],
   "source": [
    "import csv\n",
    "import numpy as np\n",
    "import matplotlib.pyplot as plt\n",
    "import os"
   ]
  },
  {
   "cell_type": "code",
   "execution_count": 6,
   "metadata": {},
   "outputs": [
    {
     "name": "stdout",
     "output_type": "stream",
     "text": [
      "['accent-mfcc-data_shuffled_train.txt', 'accent-mfcc-data_shuffled_validation.txt', 'Galaxies_kNN.ipynb', 'Galaxies_LinRegNeighbors.ipynb', 'galaxies_test.csv', 'galaxies_train.csv', 'q6.py', 'q7_clustering.py', 'q7_PCA.py', 'regression.py', 'seedsDataset.txt', 'test.py']\n",
      "\n",
      "Number of training instances: 500\n",
      "Number of test instances: 500\n",
      "Number of attributes: 10\n",
      "\n",
      "X_train shape (500, 10)\n",
      "t_train shape (500,)\n",
      "\n",
      "X_test shape (500, 10)\n",
      "t_test shape (500,)\n"
     ]
    }
   ],
   "source": [
    "# train_data = np.loadtxt(\"./data/galaxies_train.csv\", delimiter=\",\", skiprows=1)\n",
    "# test_data = np.loadtxt(\"./data/galaxies_test.csv\", delimiter=\",\", skiprows=1)\n",
    "\n",
    "# train_data = np.loadtxt(\"D:\\\\Uddannelse\\\\Datalogi\\\\KU\\\\2_aar\\\\MAD\\\\MAD2021\\\\2022_Exam\\\\Exam_REPLACEMENT\\\\exam_data_replacement\\\\data\\\\galaxies_train.csv\", delimiter=\",\", skiprows=1)\n",
    "# test_data = np.loadtxt(\"D:\\\\Uddannelse\\\\Datalogi\\\\KU\\\\2_aar\\\\MAD\\\\MAD2021\\\\2022_Exam\\\\Exam_REPLACEMENT\\\\exam_data_replacement\\\\data\\\\galaxies_test.csv\", delimiter=\",\", skiprows=1)\n",
    "f = []\n",
    "for (dirpath, dirnames, filenames) in os.walk(\".\"):\n",
    "    f.extend(filenames)\n",
    "    break\n",
    "print(f)\n",
    "print()\n",
    "\n",
    "\n",
    "train_data = np.loadtxt(\"./galaxies_train.csv\", delimiter=\",\", skiprows=1)\n",
    "test_data = np.loadtxt(\"./galaxies_test.csv\", delimiter=\",\", skiprows=1)\n",
    "\n",
    "X_train = train_data[:,1:]\n",
    "t_train = train_data[:,0]\n",
    "X_test = test_data[:,1:]\n",
    "t_test = test_data[:,0]\n",
    "print(\"Number of training instances: %i\" % X_train.shape[0])\n",
    "print(\"Number of test instances: %i\" % X_test.shape[0])\n",
    "print(\"Number of attributes: %i\" % X_train.shape[1])\n",
    "print()\n",
    "print('X_train shape', X_train.shape)\n",
    "print('t_train shape', t_train.shape)\n",
    "print()\n",
    "print('X_test shape', X_test.shape)\n",
    "print('t_test shape', t_test.shape)"
   ]
  },
  {
   "cell_type": "code",
   "execution_count": 7,
   "metadata": {},
   "outputs": [],
   "source": [
    "# NOTE: You are supposed to use this strucuture, i.e., \n",
    "# the pre-defined functions and variables. If you \n",
    "# have difficulties to keep this structure, you ARE \n",
    "# ALLOWED to adapt/change the code structure slightly!\n",
    "# You might also want to add additional functions or\n",
    "# variables.\n",
    "\n",
    "class NearestNeighborRegressor:\n",
    "    \n",
    "    def __init__(self, n_neighbors=1, dist_measure=\"euclidean\", dist_matrix=None):\n",
    "        \"\"\"\n",
    "        Initializes the model.\n",
    "        \n",
    "        Parameters\n",
    "        ----------\n",
    "        n_neighbors : The number of nearest neigbhors (default 1)\n",
    "        dist_measure : The distance measure used (default \"euclidean\")\n",
    "        dist_matrix : The distance matrix if needed (default \"None\")\n",
    "        \"\"\"\n",
    "        \n",
    "        self.n_neighbors = n_neighbors\n",
    "        self.dist_measure = dist_measure\n",
    "        self.dist_matrix = dist_matrix\n",
    "\n",
    "        #print(self.n_neighbors)\n",
    "        #print(self.dist_measure)\n",
    "        #print(self.dist_matrix)\n",
    "\n",
    "    def fit(self, X, t):\n",
    "        \"\"\"\n",
    "        Fits the nearest neighbor regression model.\n",
    "\n",
    "        Parameters\n",
    "        ----------\n",
    "        X : Array of shape [n_samples, n_features]\n",
    "        t : Array of length n_samples\n",
    "        \"\"\" \n",
    "        \n",
    "        self.X_train = X\n",
    "        self.t_train = t\n",
    "\n",
    "        #print(self.X_train)\n",
    "        #print(self.t_train)\n",
    "\n",
    "    def predict(self, X):\n",
    "        \"\"\"\n",
    "        Computes predictions for a new set of points.\n",
    "\n",
    "        Parameters\n",
    "        ----------\n",
    "        X : Array of shape [n_samples, n_features]\n",
    "\n",
    "        Returns\n",
    "        -------\n",
    "        predictions : Array of length n_samples\n",
    "        \"\"\"         \n",
    "        \n",
    "        predictions = []\n",
    "        \n",
    "        # TODO: ADD YOUR CODE HERE\n",
    "        for i in range(np.size(X_test, 0)):\n",
    "            distance_arr = np.empty(np.size(X,0))\n",
    "            for j in range(np.size(X, 0)):\n",
    "                distance = np.linalg.norm(X_test[i] - X[j])\n",
    "                distance_arr[j] = distance\n",
    "            sorted_distances = distance_arr.argsort()\n",
    "            pred_value = t_train[sorted_distances[0:self.n_neighbors]]\n",
    "\n",
    "            prediction_calc = np.sum(pred_value) / self.n_neighbors\n",
    "            predictions.append(prediction_calc)\n",
    "\n",
    "        return predictions\n",
    "\n",
    "    def predict_Matrix(self, X):\n",
    "        \"\"\"\n",
    "    Computes predictions for a new set of points.\n",
    "\n",
    "    Parameters\n",
    "    ----------\n",
    "    X : Array of shape [n_samples, n_features]\n",
    "\n",
    "    Returns\n",
    "    -------\n",
    "    predictions : Array of length n_samples\n",
    "    \"\"\"         \n",
    "        predictions = []\n",
    "        \n",
    "        # TODO: ADD YOUR CODE HERE\n",
    "        for i in range(np.size(X_test, 0)):\n",
    "            distance_arr = np.empty(np.size(X,0))\n",
    "            for j in range(np.size(X, 0)):\n",
    "                distance = np.linalg.norm((X_test[i,:] - X[j,:]).T * self.dist_matrix * (X_test[i,:] - X[j,:]))\n",
    "                distance_arr[j] = distance\n",
    "\n",
    "            sorted_distances = distance_arr.argsort()\n",
    "            pred_value = t_train[sorted_distances[0:self.n_neighbors]]\n",
    "\n",
    "            prediction_calc = np.sum(pred_value) / self.n_neighbors\n",
    "            predictions.append(prediction_calc)\n",
    "            \n",
    "        return predictions\n",
    "    "
   ]
  },
  {
   "cell_type": "code",
   "execution_count": 8,
   "metadata": {},
   "outputs": [
    {
     "name": "stdout",
     "output_type": "stream",
     "text": [
      "length of prediction arr 500\n",
      "RMSE value: 0.8243064553494784\n"
     ]
    },
    {
     "data": {
      "image/png": "[encoded data removed]",
      "text/plain": [
       "<Figure size 432x288 with 1 Axes>"
      ]
     },
     "metadata": {
      "needs_background": "light"
     },
     "output_type": "display_data"
    },
    {
     "name": "stdout",
     "output_type": "stream",
     "text": [
      "RMSE with Matrix value: 1.1005192053827482\n"
     ]
    },
    {
     "data": {
      "image/png": "[encoded data removed]",
      "text/plain": [
       "<Figure size 432x288 with 1 Axes>"
      ]
     },
     "metadata": {
      "needs_background": "light"
     },
     "output_type": "display_data"
    }
   ],
   "source": [
    "# TODO: ADD YOUR CODE HERE\n",
    "def RMSE(t,tp):\n",
    "    return np.sqrt(np.square(np.subtract(t,tp)).mean())\n",
    "\n",
    "\n",
    "model_knn = NearestNeighborRegressor(n_neighbors=3)\n",
    "model_knn.fit(X_train, t_train)\n",
    "preds = model_knn.predict(X_train)\n",
    "print(\"length of prediction arr\", len(preds))\n",
    "print(\"RMSE value:\", RMSE(t_test, preds))\n",
    "\n",
    "x_values = t_test\n",
    "y_values = preds\n",
    "plt.title('KNN for distant Galaxies')\n",
    "plt.xlabel('True Redshift')\n",
    "plt.ylabel('Predicted Redshifts')\n",
    "plt.scatter(x_values,y_values, label=\"n_neighbors = 3\")\n",
    "plt.legend(loc=\"upper right\")\n",
    "plt.xlim(0,7)\n",
    "plt.ylim(0,7)\n",
    "plt.show()\n",
    "\n",
    "\n",
    "#Semi definite matrix M\n",
    "M = np.zeros(100).reshape(10,10)\n",
    "diag_values = np.array([0.00001,0.00001,0.00001,0.00001,0.00001,0.00001,0.00001,0.00001,1.0,1.0])\n",
    "np.fill_diagonal(M, diag_values)\n",
    "\n",
    "model_knn_two = NearestNeighborRegressor(n_neighbors=3, dist_matrix=M)\n",
    "model_knn_two.fit(X_train, t_train)\n",
    "preds2 = model_knn_two.predict_Matrix(X_train)\n",
    "\n",
    "print(\"RMSE with Matrix value:\", RMSE(t_test, preds2))\n",
    "\n",
    "\n",
    "x_values = t_test\n",
    "y_values = preds2\n",
    "plt.title('KNN for distant Galaxies')\n",
    "plt.xlabel('True Redshift')\n",
    "plt.ylabel('Predicted Redshifts')\n",
    "plt.scatter(x_values,y_values, label=\"dist_matrix with n_neighbors = 3\")\n",
    "plt.legend(loc=\"upper right\")\n",
    "plt.xlim(0,7)\n",
    "plt.ylim(0,7)\n",
    "plt.show()\n"
   ]
  }
 ],
 "metadata": {
  "kernelspec": {
   "display_name": "Python 3",
   "language": "python",
   "name": "python3"
  },
  "language_info": {
   "codemirror_mode": {
    "name": "ipython",
    "version": 3
   },
   "file_extension": ".py",
   "mimetype": "text/x-python",
   "name": "python",
   "nbconvert_exporter": "python",
   "pygments_lexer": "ipython3",
   "version": "3.10.0"
  }
 },
 "nbformat": 4,
 "nbformat_minor": 2
}
