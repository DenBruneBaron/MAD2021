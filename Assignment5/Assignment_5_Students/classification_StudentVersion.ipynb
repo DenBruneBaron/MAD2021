{
 "cells": [
  {
   "cell_type": "markdown",
   "metadata": {},
   "source": [
    "# Assignment 5\n",
    "\n",
    "Task 1: Use PCA from previous assignment to convert data from 4D to 2D. If you did not manage to implement PCA, you can simply use first 2 dimensions of the database. (4 points if PCA is used, otherwise 1 point)\n",
    "\n",
    "Task 2a: Implement kNN classification algorithm and apply it to classify iris database. (2 points)\n",
    "\n",
    "Task 2b: Try different values of k = {1, 2, 3, 4, 5} and print prediction accuracy for validation set. Please select optimal value of k and justify your selection. (3 points)\n",
    "\n",
    "Task 3: Implement random forest classification and apply it to classify iris database. Use any reasonable parameters you want. (3 points)\n",
    "\n",
    "Taks 4: Visualize results of kNN and random forests (4 points)"
   ]
  },
  {
   "cell_type": "code",
   "execution_count": 61,
   "metadata": {},
   "outputs": [],
   "source": [
    "# Load packages as usual\n",
    "%matplotlib inline\n",
    "import numpy as np\n",
    "import pandas as pd\n",
    "import matplotlib.pyplot as plt\n",
    "import math\n",
    "import random\n",
    "import matplotlib.cm as cm\n",
    "import numpy.matlib\n",
    "from matplotlib.colors import ListedColormap\n",
    "from sklearn.neighbors import KNeighborsClassifier\n",
    "from sklearn.ensemble import RandomForestClassifier\n",
    "\n",
    "\n",
    "# Manipulating figure sizes\n",
    "import matplotlib\n",
    "matplotlib.rcParams['figure.figsize'] = (15,7)\n",
    "matplotlib.rc('font', size=15)\n",
    "matplotlib.rc('axes', titlesize=15)"
   ]
  },
  {
   "cell_type": "markdown",
   "metadata": {},
   "source": [
    "### Database\n",
    "\n",
    "We have a database of iris flowers, where each datapoint is defined with 4 features: a) sepal length in cm, b) sepal width in cm, c) petal length in cm, d) petal width in cm. Each datapoint has also a label from the set: Iris Setosa (label = 0), Iris Versicolour (label = 1), Iris Virginica (label = 2)."
   ]
  },
  {
   "cell_type": "markdown",
   "metadata": {},
   "source": [
    "### Reading data"
   ]
  },
  {
   "cell_type": "code",
   "execution_count": 62,
   "metadata": {},
   "outputs": [
    {
     "name": "stdout",
     "output_type": "stream",
     "text": [
      "shape training =  (88, 4)\n",
      "shape validation =  (29, 4)\n",
      "shape testing =  (31, 4)\n"
     ]
    }
   ],
   "source": [
    "def __read(fileName, pTrainSamples = 0.6, pValidSamples = 0.2):\n",
    "    emp_df = pd.read_csv(fileName)\n",
    "    values = emp_df.values\n",
    "    values = emp_df.values.astype(float)\n",
    "    \n",
    "    nTrainSamples = int(values.shape[0] * pTrainSamples)\n",
    "    nValidSamples = int(values.shape[0] * pValidSamples)\n",
    "    \n",
    "    trainingFeatures = values[0:nTrainSamples, 0:-1]\n",
    "    trainingLabels   = values[0:nTrainSamples, -1]\n",
    "    validationFeatures = values[nTrainSamples:nTrainSamples + nValidSamples, 0:-1]\n",
    "    validationLabels   = values[nTrainSamples:nTrainSamples + nValidSamples, -1]\n",
    "    testingFeatures    = values[nTrainSamples + nValidSamples:, 0:-1]\n",
    "    testingLabels      = values[nTrainSamples + nValidSamples:, -1]\n",
    "    return trainingFeatures.astype(float), trainingLabels.astype(int), \\\n",
    "           validationFeatures.astype(float), validationLabels.astype(int), \\\n",
    "           testingFeatures.astype(float), testingLabels.astype(int)\n",
    "\n",
    "\n",
    "trainingFeatures, trainingLabels, validationFeatures, validationLabels, testingFeatures, testingLabels = __read('D:\\\\Uddannelse\\\\Datalogi\\\\KU\\\\2_aar\\\\MAD\\\\MAD2021\\\\Assignment5\\\\Assignment_5_Students\\\\iris_new.csv')\n",
    "print('shape training = ', trainingFeatures.shape)\n",
    "print('shape validation = ', validationFeatures.shape)\n",
    "print('shape testing = ', testingFeatures.shape)"
   ]
  },
  {
   "cell_type": "markdown",
   "metadata": {},
   "source": [
    "### Converting data to two dimensions using PCA\n",
    "\n",
    "The conversion to 2D from 4D input is needed to simplify visualization of the results. Please generate PCA on the training, and then convert training and testing data from 4D to 2D. "
   ]
  },
  {
   "cell_type": "code",
   "execution_count": 63,
   "metadata": {},
   "outputs": [
    {
     "name": "stdout",
     "output_type": "stream",
     "text": [
      "shape training =  (88, 2)\n",
      "shape validation =  (29, 2)\n",
      "shape testing =  (31, 2)\n"
     ]
    }
   ],
   "source": [
    "def __PCA(data):\n",
    "    \n",
    "    # Creating \"clone\" of matrix\n",
    "    data_cent = np.full_like(data,0) \n",
    "    # Iterate the matrix subtracting the mean diatiom from each row\n",
    "    for i in range(4):\n",
    "        data_cent[:,i] = trainingFeatures[:,i] - np.mean(trainingFeatures, 1)\n",
    "\n",
    "    data_cent = data_cent.T\n",
    "    \n",
    "    #data_cent = data - mean_diatom.shape\n",
    "    cov2 = np.cov(data_cent)\n",
    "    #cov_matrix = np.cov(data_cent)\n",
    "    PCevals, PCevecs = np.linalg.eigh(cov2)\n",
    "    #PCevals, PCevecs = np.linalg.eigh(cov_matrix)\n",
    "    PCevals = np.flip(PCevals)\n",
    "    PCevecs = np.flip(PCevecs, axis=1)\n",
    "\n",
    "    return PCevals, PCevecs\n",
    "\n",
    "\n",
    "def __transformData(features, PCevecs):\n",
    "    return np.dot(features,  PCevecs[:, 0:2])\n",
    "\n",
    "\n",
    "PCevals, PCevecs = __PCA(trainingFeatures)\n",
    "trainingFeatures2D = __transformData(trainingFeatures, PCevecs)\n",
    "validationFeatures2D = __transformData(validationFeatures, PCevecs)\n",
    "testingFeatures2D = __transformData(testingFeatures, PCevecs)\n",
    "print('shape training = ', trainingFeatures2D.shape)\n",
    "print('shape validation = ', validationFeatures2D.shape)\n",
    "print('shape testing = ', testingFeatures2D.shape)"
   ]
  },
  {
   "cell_type": "markdown",
   "metadata": {},
   "source": [
    "### Visualizing 2D data\n",
    "\n",
    "This is visualization of the training data with labels."
   ]
  },
  {
   "cell_type": "code",
   "execution_count": 64,
   "metadata": {},
   "outputs": [
    {
     "data": {
      "image/png": "[encoded data removed]",
      "text/plain": [
       "<Figure size 1080x504 with 1 Axes>"
      ]
     },
     "metadata": {
      "needs_background": "light"
     },
     "output_type": "display_data"
    }
   ],
   "source": [
    "def __visualizeLabels(features, referenceLabels):\n",
    "    plt.figure()\n",
    "    cmap_light = ListedColormap(['#FFAAAA', '#AAFFAA', '#AAAAFF'])\n",
    "    cmap_bold  = ListedColormap(['#FF0000', '#00FF00', '#0000FF'])\n",
    "    y = referenceLabels\n",
    "\n",
    "    plt.scatter(features[:, 0], features[:, 1], c = y, cmap = cmap_bold)\n",
    "    plt.xlim(features[:, 0].min() - 0.1, features[:, 0].max() + 0.1)\n",
    "    plt.ylim(features[:, 1].min() - 0.1, features[:, 1].max() + 0.1)\n",
    "    plt.show()\n",
    "    t = 0\n",
    "    \n",
    "__visualizeLabels(trainingFeatures2D, trainingLabels)"
   ]
  },
  {
   "cell_type": "markdown",
   "metadata": {},
   "source": [
    "### k-NN implementation\n",
    "\n",
    "Implement k-NN for prediction of iris labels. Test k-NN for different k-s and find the best one in the space of {1, 2, 3, 4, 5}. Use validation set for testing different k values.\n",
    "\n",
    "Please note that it is NOT allowed to use KNeighborsClassifier or other existing implementation of k-NN. We expect that can implement it yourself.\n"
   ]
  },
  {
   "cell_type": "code",
   "execution_count": 65,
   "metadata": {},
   "outputs": [
    {
     "ename": "NameError",
     "evalue": "name 'accuracy' is not defined",
     "output_type": "error",
     "traceback": [
      "\u001b[1;31m---------------------------------------------------------------------------\u001b[0m",
      "\u001b[1;31mNameError\u001b[0m                                 Traceback (most recent call last)",
      "\u001b[1;32m~\\AppData\\Local\\Temp/ipykernel_3884/396064573.py\u001b[0m in \u001b[0;36m<module>\u001b[1;34m\u001b[0m\n\u001b[0;32m      4\u001b[0m \u001b[1;33m\u001b[0m\u001b[0m\n\u001b[0;32m      5\u001b[0m \u001b[1;32mfor\u001b[0m \u001b[0mn\u001b[0m \u001b[1;32min\u001b[0m \u001b[0mrange\u001b[0m\u001b[1;33m(\u001b[0m\u001b[1;36m1\u001b[0m\u001b[1;33m,\u001b[0m \u001b[1;36m6\u001b[0m\u001b[1;33m)\u001b[0m\u001b[1;33m:\u001b[0m\u001b[1;33m\u001b[0m\u001b[1;33m\u001b[0m\u001b[0m\n\u001b[1;32m----> 6\u001b[1;33m     \u001b[0mprint\u001b[0m\u001b[1;33m(\u001b[0m\u001b[1;34m'accuracy = '\u001b[0m\u001b[1;33m,\u001b[0m \u001b[0m__kNNTest\u001b[0m\u001b[1;33m(\u001b[0m\u001b[0mtrainingFeatures2D\u001b[0m\u001b[1;33m,\u001b[0m \u001b[0mtrainingLabels\u001b[0m\u001b[1;33m,\u001b[0m \u001b[0mn\u001b[0m\u001b[1;33m,\u001b[0m \u001b[0mvalidationFeatures2D\u001b[0m\u001b[1;33m,\u001b[0m \u001b[0mvalidationLabels\u001b[0m\u001b[1;33m)\u001b[0m\u001b[1;33m)\u001b[0m\u001b[1;33m\u001b[0m\u001b[1;33m\u001b[0m\u001b[0m\n\u001b[0m",
      "\u001b[1;32m~\\AppData\\Local\\Temp/ipykernel_3884/396064573.py\u001b[0m in \u001b[0;36m__kNNTest\u001b[1;34m(trainingFeatures2D, trainingLabels, n_neighbors, validationFeatures2D, validationLabels)\u001b[0m\n\u001b[0;32m      1\u001b[0m \u001b[1;32mdef\u001b[0m \u001b[0m__kNNTest\u001b[0m\u001b[1;33m(\u001b[0m\u001b[0mtrainingFeatures2D\u001b[0m\u001b[1;33m,\u001b[0m \u001b[0mtrainingLabels\u001b[0m\u001b[1;33m,\u001b[0m \u001b[0mn_neighbors\u001b[0m\u001b[1;33m,\u001b[0m \u001b[0mvalidationFeatures2D\u001b[0m\u001b[1;33m,\u001b[0m \u001b[0mvalidationLabels\u001b[0m\u001b[1;33m)\u001b[0m\u001b[1;33m:\u001b[0m\u001b[1;33m\u001b[0m\u001b[1;33m\u001b[0m\u001b[0m\n\u001b[0;32m      2\u001b[0m     \u001b[1;31m#---put your code here\u001b[0m\u001b[1;33m\u001b[0m\u001b[1;33m\u001b[0m\u001b[0m\n\u001b[1;32m----> 3\u001b[1;33m     \u001b[1;32mreturn\u001b[0m \u001b[0maccuracy\u001b[0m\u001b[1;33m\u001b[0m\u001b[1;33m\u001b[0m\u001b[0m\n\u001b[0m\u001b[0;32m      4\u001b[0m \u001b[1;33m\u001b[0m\u001b[0m\n\u001b[0;32m      5\u001b[0m \u001b[1;32mfor\u001b[0m \u001b[0mn\u001b[0m \u001b[1;32min\u001b[0m \u001b[0mrange\u001b[0m\u001b[1;33m(\u001b[0m\u001b[1;36m1\u001b[0m\u001b[1;33m,\u001b[0m \u001b[1;36m6\u001b[0m\u001b[1;33m)\u001b[0m\u001b[1;33m:\u001b[0m\u001b[1;33m\u001b[0m\u001b[1;33m\u001b[0m\u001b[0m\n",
      "\u001b[1;31mNameError\u001b[0m: name 'accuracy' is not defined"
     ]
    }
   ],
   "source": [
    "def __kNNTest(trainingFeatures2D, trainingLabels, n_neighbors, validationFeatures2D, validationLabels):\n",
    "    #---put your code here\n",
    "    return accuracy\n",
    "\n",
    "for n in range(1, 6):\n",
    "    print('accuracy = ', __kNNTest(trainingFeatures2D, trainingLabels, n, validationFeatures2D, validationLabels))\n"
   ]
  },
  {
   "cell_type": "markdown",
   "metadata": {},
   "source": [
    "### Random forests implementation\n",
    "\n",
    "Implement random forest for prediciton of iris labels. Select any reasonable configuration of parameters for the random forest predictor\n",
    "\n",
    "Here you are allowed to use existing implementations, please check RandomForestClassifier from sklearn"
   ]
  },
  {
   "cell_type": "code",
   "execution_count": 88,
   "metadata": {},
   "outputs": [
    {
     "name": "stdout",
     "output_type": "stream",
     "text": [
      "           0         1\n",
      "2   2.172187  3.655692\n",
      "0   2.175585  3.141161\n",
      "27 -1.357046  2.890257\n",
      "24  1.898877  3.728113\n",
      "9  -1.215489  3.313057\n",
      "           0         1\n",
      "18 -1.283439  3.383852\n",
      "28  0.864732  3.229448\n",
      "10 -1.357613  3.551684\n",
      "16 -1.223626  3.590494\n",
      "14 -1.986736  4.187192\n",
      "           0         1  Labels\n",
      "2   2.172187  3.655692       1\n",
      "0   2.175585  3.141161       2\n",
      "27 -1.357046  2.890257       1\n",
      "24  1.898877  3.728113       2\n",
      "9  -1.215489  3.313057       2\n",
      "           0         1  Labels\n",
      "18 -1.283439  3.383852       1\n",
      "28  0.864732  3.229448       2\n",
      "10 -1.357613  3.551684       2\n",
      "16 -1.223626  3.590494       2\n",
      "14 -1.986736  4.187192       2\n",
      "24\n",
      "7\n"
     ]
    },
    {
     "ename": "ValueError",
     "evalue": "Unknown label type: 'continuous-multioutput'",
     "output_type": "error",
     "traceback": [
      "\u001b[1;31m---------------------------------------------------------------------------\u001b[0m",
      "\u001b[1;31mValueError\u001b[0m                                Traceback (most recent call last)",
      "\u001b[1;32m~\\AppData\\Local\\Temp/ipykernel_3884/1007148065.py\u001b[0m in \u001b[0;36m<module>\u001b[1;34m\u001b[0m\n\u001b[0;32m     20\u001b[0m \u001b[1;33m\u001b[0m\u001b[0m\n\u001b[0;32m     21\u001b[0m \u001b[0mmodel\u001b[0m \u001b[1;33m=\u001b[0m \u001b[0mRandomForestClassifier\u001b[0m\u001b[1;33m(\u001b[0m\u001b[1;33m)\u001b[0m\u001b[1;33m\u001b[0m\u001b[1;33m\u001b[0m\u001b[0m\n\u001b[1;32m---> 22\u001b[1;33m \u001b[0mmodel\u001b[0m\u001b[1;33m.\u001b[0m\u001b[0mfit\u001b[0m\u001b[1;33m(\u001b[0m\u001b[0mX_train\u001b[0m\u001b[1;33m,\u001b[0m \u001b[0my_train\u001b[0m\u001b[1;33m)\u001b[0m\u001b[1;33m\u001b[0m\u001b[1;33m\u001b[0m\u001b[0m\n\u001b[0m\u001b[0;32m     23\u001b[0m \u001b[1;33m\u001b[0m\u001b[0m\n\u001b[0;32m     24\u001b[0m \u001b[1;33m\u001b[0m\u001b[0m\n",
      "\u001b[1;32mG:\\Developer_Libraries\\Python\\lib\\site-packages\\sklearn\\ensemble\\_forest.py\u001b[0m in \u001b[0;36mfit\u001b[1;34m(self, X, y, sample_weight)\u001b[0m\n\u001b[0;32m    365\u001b[0m         \u001b[0mself\u001b[0m\u001b[1;33m.\u001b[0m\u001b[0mn_outputs_\u001b[0m \u001b[1;33m=\u001b[0m \u001b[0my\u001b[0m\u001b[1;33m.\u001b[0m\u001b[0mshape\u001b[0m\u001b[1;33m[\u001b[0m\u001b[1;36m1\u001b[0m\u001b[1;33m]\u001b[0m\u001b[1;33m\u001b[0m\u001b[1;33m\u001b[0m\u001b[0m\n\u001b[0;32m    366\u001b[0m \u001b[1;33m\u001b[0m\u001b[0m\n\u001b[1;32m--> 367\u001b[1;33m         \u001b[0my\u001b[0m\u001b[1;33m,\u001b[0m \u001b[0mexpanded_class_weight\u001b[0m \u001b[1;33m=\u001b[0m \u001b[0mself\u001b[0m\u001b[1;33m.\u001b[0m\u001b[0m_validate_y_class_weight\u001b[0m\u001b[1;33m(\u001b[0m\u001b[0my\u001b[0m\u001b[1;33m)\u001b[0m\u001b[1;33m\u001b[0m\u001b[1;33m\u001b[0m\u001b[0m\n\u001b[0m\u001b[0;32m    368\u001b[0m \u001b[1;33m\u001b[0m\u001b[0m\n\u001b[0;32m    369\u001b[0m         \u001b[1;32mif\u001b[0m \u001b[0mgetattr\u001b[0m\u001b[1;33m(\u001b[0m\u001b[0my\u001b[0m\u001b[1;33m,\u001b[0m \u001b[1;34m\"dtype\"\u001b[0m\u001b[1;33m,\u001b[0m \u001b[1;32mNone\u001b[0m\u001b[1;33m)\u001b[0m \u001b[1;33m!=\u001b[0m \u001b[0mDOUBLE\u001b[0m \u001b[1;32mor\u001b[0m \u001b[1;32mnot\u001b[0m \u001b[0my\u001b[0m\u001b[1;33m.\u001b[0m\u001b[0mflags\u001b[0m\u001b[1;33m.\u001b[0m\u001b[0mcontiguous\u001b[0m\u001b[1;33m:\u001b[0m\u001b[1;33m\u001b[0m\u001b[1;33m\u001b[0m\u001b[0m\n",
      "\u001b[1;32mG:\\Developer_Libraries\\Python\\lib\\site-packages\\sklearn\\ensemble\\_forest.py\u001b[0m in \u001b[0;36m_validate_y_class_weight\u001b[1;34m(self, y)\u001b[0m\n\u001b[0;32m    732\u001b[0m \u001b[1;33m\u001b[0m\u001b[0m\n\u001b[0;32m    733\u001b[0m     \u001b[1;32mdef\u001b[0m \u001b[0m_validate_y_class_weight\u001b[0m\u001b[1;33m(\u001b[0m\u001b[0mself\u001b[0m\u001b[1;33m,\u001b[0m \u001b[0my\u001b[0m\u001b[1;33m)\u001b[0m\u001b[1;33m:\u001b[0m\u001b[1;33m\u001b[0m\u001b[1;33m\u001b[0m\u001b[0m\n\u001b[1;32m--> 734\u001b[1;33m         \u001b[0mcheck_classification_targets\u001b[0m\u001b[1;33m(\u001b[0m\u001b[0my\u001b[0m\u001b[1;33m)\u001b[0m\u001b[1;33m\u001b[0m\u001b[1;33m\u001b[0m\u001b[0m\n\u001b[0m\u001b[0;32m    735\u001b[0m \u001b[1;33m\u001b[0m\u001b[0m\n\u001b[0;32m    736\u001b[0m         \u001b[0my\u001b[0m \u001b[1;33m=\u001b[0m \u001b[0mnp\u001b[0m\u001b[1;33m.\u001b[0m\u001b[0mcopy\u001b[0m\u001b[1;33m(\u001b[0m\u001b[0my\u001b[0m\u001b[1;33m)\u001b[0m\u001b[1;33m\u001b[0m\u001b[1;33m\u001b[0m\u001b[0m\n",
      "\u001b[1;32mG:\\Developer_Libraries\\Python\\lib\\site-packages\\sklearn\\utils\\multiclass.py\u001b[0m in \u001b[0;36mcheck_classification_targets\u001b[1;34m(y)\u001b[0m\n\u001b[0;32m    195\u001b[0m         \u001b[1;34m\"multilabel-sequences\"\u001b[0m\u001b[1;33m,\u001b[0m\u001b[1;33m\u001b[0m\u001b[1;33m\u001b[0m\u001b[0m\n\u001b[0;32m    196\u001b[0m     ]:\n\u001b[1;32m--> 197\u001b[1;33m         \u001b[1;32mraise\u001b[0m \u001b[0mValueError\u001b[0m\u001b[1;33m(\u001b[0m\u001b[1;34m\"Unknown label type: %r\"\u001b[0m \u001b[1;33m%\u001b[0m \u001b[0my_type\u001b[0m\u001b[1;33m)\u001b[0m\u001b[1;33m\u001b[0m\u001b[1;33m\u001b[0m\u001b[0m\n\u001b[0m\u001b[0;32m    198\u001b[0m \u001b[1;33m\u001b[0m\u001b[0m\n\u001b[0;32m    199\u001b[0m \u001b[1;33m\u001b[0m\u001b[0m\n",
      "\u001b[1;31mValueError\u001b[0m: Unknown label type: 'continuous-multioutput'"
     ]
    }
   ],
   "source": [
    "from sklearn.model_selection import train_test_split\n",
    "\n",
    "df_tF = pd.DataFrame(testingFeatures2D)\n",
    "#print(df_tF.head())\n",
    "df_tL = pd.DataFrame(trainingLabels)\n",
    "#print(df_tL.head())\n",
    "\n",
    "df_tF['Labels'] = df_tL\n",
    "#print(df_tF.head())\n",
    "\n",
    "X_train, X_test, y_train, y_test = train_test_split(df_tF.drop(['Labels'], axis='columns'), df_tF, test_size=0.2)\n",
    "\n",
    "\n",
    "print(X_train.head())\n",
    "print(X_test.head())\n",
    "print(y_train.head())\n",
    "print(y_test.head())\n",
    "print(len(y_train))\n",
    "print(len(y_test))\n",
    "\n",
    "model = RandomForestClassifier()\n",
    "model.fit(X_train, y_train)\n",
    "\n",
    "\n",
    "\n",
    "#def __randomForests(trainingFeatures2D, trainingLabels):\n",
    "#---put your code here\n",
    "\n",
    "\n",
    "#    return predictor\n",
    "\n",
    "#predictor = __randomForests(trainingFeatures2D, trainingLabels)"
   ]
  },
  {
   "cell_type": "markdown",
   "metadata": {},
   "source": [
    "### Visualizing predictor boundaries\n",
    "\n",
    "Modify function __visualizeLabels to visualize not only labels but also decision boundaries of a predictor. Apply kNN classifier with optimal k on testing features and visualize the obtained results. Visualize the obtained results in comparion with the true testing labels. Apply random forest classifier on testing features and visualize the obtained results.\n",
    "\n",
    "Here, you are allowed to use KNeighborsClassifier in __kNN.\n",
    "\n",
    "Hint: check this example https://stackoverflow.com/questions/41138706/recreating-decision-boundary-plot-in-python-with-scikit-learn-and-matplotlib"
   ]
  },
  {
   "cell_type": "code",
   "execution_count": null,
   "metadata": {},
   "outputs": [],
   "source": [
    "def __visualizePredictions(predictor, features, referenceLabels):\n",
    "    plt.figure()\n",
    "    cmap_light = ListedColormap(['#FFAAAA', '#AAFFAA', '#AAAAFF'])\n",
    "    cmap_bold  = ListedColormap(['#FF0000', '#00FF00', '#0000FF'])\n",
    "    h = 0.05\n",
    "    y = referenceLabels\n",
    "    #---put your code here\n",
    "    #--- it is expexted that you get xx and yy as coordinates for visualization, and Z as labels for area visualization\n",
    "    plt.pcolormesh(xx, yy, Z, cmap = cmap_light)\n",
    "    # Plot also the training points\n",
    "    plt.scatter(features[:, 0], features[:, 1], c = y, cmap = cmap_bold)\n",
    "    plt.xlim(xx.min(), xx.max())\n",
    "    plt.ylim(yy.min(), yy.max())\n",
    "    plt.show()\n",
    "\n",
    "\n",
    "#k = ??\n",
    "kNNPredictor = __kNN(trainingFeatures2D, trainingLabels, k)\n",
    "RFPredictor  = __randomForests(trainingFeatures2D, trainingLabels)\n",
    "__visualizePredictions(kNNPredictor, testingFeatures2D, testingLabels)\n",
    "__visualizePredictions(RFPredictor, testingFeatures2D, testingLabels)"
   ]
  }
 ],
 "metadata": {
  "kernelspec": {
   "display_name": "Python 3",
   "language": "python",
   "name": "python3"
  },
  "language_info": {
   "codemirror_mode": {
    "name": "ipython",
    "version": 3
   },
   "file_extension": ".py",
   "mimetype": "text/x-python",
   "name": "python",
   "nbconvert_exporter": "python",
   "pygments_lexer": "ipython3",
   "version": "3.10.0"
  }
 },
 "nbformat": 4,
 "nbformat_minor": 2
}
