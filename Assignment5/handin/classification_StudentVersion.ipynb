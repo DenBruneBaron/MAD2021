{
 "cells": [
  {
   "cell_type": "markdown",
   "metadata": {},
   "source": [
    "# Assignment 5\n",
    "\n",
    "Task 1: Use PCA from previous assignment to convert data from 4D to 2D. If you did not manage to implement PCA, you can simply use first 2 dimensions of the database. (4 points if PCA is used, otherwise 1 point)\n",
    "\n",
    "Task 2a: Implement kNN classification algorithm and apply it to classify iris database. (2 points)\n",
    "\n",
    "Task 2b: Try different values of k = {1, 2, 3, 4, 5} and print prediction accuracy for validation set. Please select optimal value of k and justify your selection. (3 points)\n",
    "\n",
    "Task 3: Implement random forest classification and apply it to classify iris database. Use any reasonable parameters you want. (3 points)\n",
    "\n",
    "Taks 4: Visualize results of kNN and random forests (4 points)"
   ]
  },
  {
   "cell_type": "code",
   "execution_count": 75,
   "metadata": {},
   "outputs": [],
   "source": [
    "# Load packages as usual\n",
    "%matplotlib inline\n",
    "import numpy as np\n",
    "import pandas as pd\n",
    "import matplotlib.pyplot as plt\n",
    "import math\n",
    "import random\n",
    "import matplotlib.cm as cm\n",
    "import numpy.matlib\n",
    "from matplotlib.colors import ListedColormap\n",
    "from sklearn.neighbors import KNeighborsClassifier\n",
    "from sklearn.ensemble import RandomForestClassifier\n",
    "\n",
    "\n",
    "# Manipulating figure sizes\n",
    "import matplotlib\n",
    "matplotlib.rcParams['figure.figsize'] = (15,7)\n",
    "matplotlib.rc('font', size=15)\n",
    "matplotlib.rc('axes', titlesize=15)"
   ]
  },
  {
   "cell_type": "markdown",
   "metadata": {},
   "source": [
    "### Database\n",
    "\n",
    "We have a database of iris flowers, where each datapoint is defined with 4 features: a) sepal length in cm, b) sepal width in cm, c) petal length in cm, d) petal width in cm. Each datapoint has also a label from the set: Iris Setosa (label = 0), Iris Versicolour (label = 1), Iris Virginica (label = 2)."
   ]
  },
  {
   "cell_type": "markdown",
   "metadata": {},
   "source": [
    "### Reading data"
   ]
  },
  {
   "cell_type": "code",
   "execution_count": 76,
   "metadata": {},
   "outputs": [
    {
     "name": "stdout",
     "output_type": "stream",
     "text": [
      "shape training =  (88, 4)\n",
      "shape validation =  (29, 4)\n",
      "shape testing =  (31, 4)\n"
     ]
    }
   ],
   "source": [
    "def __read(fileName, pTrainSamples = 0.6, pValidSamples = 0.2):\n",
    "    emp_df = pd.read_csv(fileName)\n",
    "    values = emp_df.values\n",
    "    values = emp_df.values.astype(float)\n",
    "    \n",
    "    nTrainSamples = int(values.shape[0] * pTrainSamples)\n",
    "    nValidSamples = int(values.shape[0] * pValidSamples)\n",
    "    \n",
    "    trainingFeatures = values[0:nTrainSamples, 0:-1]\n",
    "    trainingLabels   = values[0:nTrainSamples, -1]\n",
    "    validationFeatures = values[nTrainSamples:nTrainSamples + nValidSamples, 0:-1]\n",
    "    validationLabels   = values[nTrainSamples:nTrainSamples + nValidSamples, -1]\n",
    "    testingFeatures    = values[nTrainSamples + nValidSamples:, 0:-1]\n",
    "    testingLabels      = values[nTrainSamples + nValidSamples:, -1]\n",
    "    return trainingFeatures.astype(float), trainingLabels.astype(int), \\\n",
    "           validationFeatures.astype(float), validationLabels.astype(int), \\\n",
    "           testingFeatures.astype(float), testingLabels.astype(int)\n",
    "\n",
    "\n",
    "trainingFeatures, trainingLabels, validationFeatures, validationLabels, testingFeatures, testingLabels = __read('D:\\\\Uddannelse\\\\Datalogi\\\\KU\\\\2_aar\\\\MAD\\\\MAD2021\\\\Assignment5\\\\Assignment_5_Students\\\\iris_new.csv')\n",
    "#trainingFeatures, trainingLabels, validationFeatures, validationLabels, testingFeatures, testingLabels = __read('C:\\\\Users\\\\Ask\\\\Documents\\\\Datalogi\\\\KU\\\\2_aar\\\\MAD2021\\\\Assignment5\\\\Assignment_5_Students\\\\iris_new.csv')\n",
    "print('shape training = ', trainingFeatures.shape)\n",
    "print('shape validation = ', validationFeatures.shape)\n",
    "print('shape testing = ', testingFeatures.shape)"
   ]
  },
  {
   "cell_type": "markdown",
   "metadata": {},
   "source": [
    "### Converting data to two dimensions using PCA\n",
    "\n",
    "The conversion to 2D from 4D input is needed to simplify visualization of the results. Please generate PCA on the training, and then convert training and testing data from 4D to 2D. "
   ]
  },
  {
   "cell_type": "code",
   "execution_count": 77,
   "metadata": {},
   "outputs": [
    {
     "name": "stdout",
     "output_type": "stream",
     "text": [
      "shape training =  (88, 2)\n",
      "shape validation =  (29, 2)\n",
      "shape testing =  (31, 2)\n"
     ]
    }
   ],
   "source": [
    "\n",
    "\n",
    "def __PCA(data):\n",
    "    \n",
    "    # Creating \"clone\" of matrix\n",
    "    data_cent = np.full_like(data,0) \n",
    "    # Iterate the matrix subtracting the mean diatiom from each row\n",
    "    for i in range(4):\n",
    "        data_cent[:,i] = trainingFeatures[:,i] - np.mean(trainingFeatures, 1)\n",
    "\n",
    "    # Transposes the data\n",
    "    data_cent = data_cent.T\n",
    "    # Creates Covariance matrix for data_cent\n",
    "    cov2 = np.cov(data_cent)\n",
    "    # Calculates eigenvalues and eigenvectors\n",
    "    PCevals, PCevecs = np.linalg.eig(cov2)\n",
    "\n",
    "    return PCevals, PCevecs\n",
    "\n",
    "\n",
    "def __transformData(features, PCevecs):\n",
    "    return np.dot(features,  PCevecs[:, 0:2])\n",
    "\n",
    "\n",
    "PCevals, PCevecs = __PCA(trainingFeatures)\n",
    "trainingFeatures2D = __transformData(trainingFeatures, PCevecs)\n",
    "validationFeatures2D = __transformData(validationFeatures, PCevecs)\n",
    "testingFeatures2D = __transformData(testingFeatures, PCevecs)\n",
    "print('shape training = ', trainingFeatures2D.shape)\n",
    "print('shape validation = ', validationFeatures2D.shape)\n",
    "print('shape testing = ', testingFeatures2D.shape)"
   ]
  },
  {
   "cell_type": "markdown",
   "metadata": {},
   "source": [
    "### Visualizing 2D data\n",
    "\n",
    "This is visualization of the training data with labels."
   ]
  },
  {
   "cell_type": "code",
   "execution_count": 78,
   "metadata": {},
   "outputs": [
    {
     "data": {
      "image/png": "[encoded data removed]",
      "text/plain": [
       "<Figure size 1080x504 with 1 Axes>"
      ]
     },
     "metadata": {
      "needs_background": "light"
     },
     "output_type": "display_data"
    }
   ],
   "source": [
    "def __visualizeLabels(features, referenceLabels):\n",
    "    plt.figure()\n",
    "    cmap_light = ListedColormap(['#FFAAAA', '#AAFFAA', '#AAAAFF'])\n",
    "    cmap_bold  = ListedColormap(['#FF0000', '#00FF00', '#0000FF'])\n",
    "    y = referenceLabels\n",
    "\n",
    "    plt.scatter(features[:, 0], features[:, 1], c = y, cmap = cmap_bold)\n",
    "    plt.xlim(features[:, 0].min() - 0.1, features[:, 0].max() + 0.1)\n",
    "    plt.ylim(features[:, 1].min() - 0.1, features[:, 1].max() + 0.1)\n",
    "    plt.show()\n",
    "    t = 0\n",
    "    \n",
    "__visualizeLabels(trainingFeatures2D, trainingLabels)"
   ]
  },
  {
   "cell_type": "markdown",
   "metadata": {},
   "source": [
    "### k-NN implementation\n",
    "\n",
    "Implement k-NN for prediction of iris labels. Test k-NN for different k-s and find the best one in the space of {1, 2, 3, 4, 5}. Use validation set for testing different k values.\n",
    "\n",
    "Please note that it is NOT allowed to use KNeighborsClassifier or other existing implementation of k-NN. We expect that can implement it yourself.\n"
   ]
  },
  {
   "cell_type": "code",
   "execution_count": 79,
   "metadata": {},
   "outputs": [
    {
     "name": "stdout",
     "output_type": "stream",
     "text": [
      "accuracy =  0.9655172413793104\n",
      "accuracy =  0.9655172413793104\n",
      "accuracy =  1.0\n",
      "accuracy =  1.0\n",
      "accuracy =  1.0\n"
     ]
    }
   ],
   "source": [
    "# Calculates the euclidean distance between two points.\n",
    "def euclidean_distance(x1, x2):\n",
    "    return np.sqrt(np.sum((x1 - x2)**2))\n",
    "\n",
    "def __kNNTest(trainingFeatures2D, trainingLabels, n_neighbors, validationFeatures2D, validationLabels):\n",
    "    # make a counter to count how many times we find the correct label\n",
    "    count = 0\n",
    "\n",
    "    # Iterates the length of validationFeatures2D array\n",
    "    for i in range(np.size(validationFeatures2D,0)):\n",
    "        # Creates an empty distance array for each new iteration in the validationFeatures2D array\n",
    "        dist_arr = np.empty(np.size(trainingFeatures2D,0))\n",
    "\n",
    "        # Iterates the length of trainingFeatures2D array\n",
    "        for j in range(np.size(trainingFeatures2D,0)):\n",
    "            # Calculates the distance using the np.linalg.norm\n",
    "            dist = np.linalg.norm(validationFeatures2D[i] - trainingFeatures2D[j])\n",
    "            # inserts the calculated distances into the dist_arr\n",
    "            dist_arr[j] = dist\n",
    "        # Creates label array, that is sorted using argsort which sort an\n",
    "        # array returning the indices that holds the lowest value (distance in this case)\n",
    "        label_arr = dist_arr.argsort()\n",
    "\n",
    "        # Create new variables to calulate the number of occurences of a specific label\n",
    "        zero = 0\n",
    "        one = 0\n",
    "        two = 0\n",
    "        pred_label = trainingLabels[label_arr[0]]\n",
    "\n",
    "        # Check what labels we find in the label array\n",
    "        for x in range (n_neighbors):\n",
    "            if trainingLabels[label_arr[x]] == 0:\n",
    "                zero = zero + 1\n",
    "            elif trainingLabels[label_arr[x]] == 1:\n",
    "                one = one + 1\n",
    "            elif trainingLabels[label_arr[x]] == 2:\n",
    "                two = two + 1\n",
    "        # Insert the value into the predicted label array\n",
    "        if zero > one and zero > two:\n",
    "             pred_label = 0\n",
    "        elif one > zero and one > two:\n",
    "            pred_label = 1\n",
    "        elif two > zero and two > one:\n",
    "            pred_label = 2\n",
    "\n",
    "        # Check if the prediction we made is corrosponding to the one in the validation array\n",
    "        # if correct, increase the counter by one\n",
    "        if pred_label == validationLabels[i]:\n",
    "            count = count + 1\n",
    "\n",
    "    # calucate the final count of corret labels in order to return it as a float (reprecenting accuracy in %)\n",
    "    accuracy = count / len(validationFeatures2D)\n",
    "    return accuracy\n",
    "\n",
    "for n in range(1, 6):\n",
    "    print('accuracy = ', __kNNTest(trainingFeatures2D, trainingLabels, n, validationFeatures2D, validationLabels))\n"
   ]
  },
  {
   "cell_type": "markdown",
   "metadata": {},
   "source": []
  },
  {
   "cell_type": "markdown",
   "metadata": {},
   "source": [
    "### Random forests implementation\n",
    "\n",
    "Implement random forest for prediciton of iris labels. Select any reasonable configuration of parameters for the random forest predictor\n",
    "\n",
    "Here you are allowed to use existing implementations, please check RandomForestClassifier from sklearn"
   ]
  },
  {
   "cell_type": "code",
   "execution_count": 80,
   "metadata": {},
   "outputs": [],
   "source": [
    "def __randomForests(trainingFeatures2D, trainingLabels):\n",
    "    model = RandomForestClassifier(n_estimators=200, criterion='gini')\n",
    "    predictor = model.fit(trainingFeatures2D, trainingLabels)\n",
    "\n",
    "    return predictor\n",
    "\n",
    "predictor = __randomForests(trainingFeatures2D, trainingLabels)"
   ]
  },
  {
   "cell_type": "markdown",
   "metadata": {},
   "source": [
    "### Visualizing predictor boundaries\n",
    "\n",
    "Modify function __visualizeLabels to visualize not only labels but also decision boundaries of a predictor. Apply kNN classifier with optimal k on testing features and visualize the obtained results. Visualize the obtained results in comparion with the true testing labels. Apply random forest classifier on testing features and visualize the obtained results.\n",
    "\n",
    "Here, you are allowed to use KNeighborsClassifier in __kNN.\n",
    "\n",
    "Hint: check this example https://stackoverflow.com/questions/41138706/recreating-decision-boundary-plot-in-python-with-scikit-learn-and-matplotlib"
   ]
  },
  {
   "cell_type": "code",
   "execution_count": 81,
   "metadata": {},
   "outputs": [
    {
     "ename": "NameError",
     "evalue": "name '__kNN' is not defined",
     "output_type": "error",
     "traceback": [
      "\u001b[1;31m---------------------------------------------------------------------------\u001b[0m",
      "\u001b[1;31mNameError\u001b[0m                                 Traceback (most recent call last)",
      "\u001b[1;32m~\\AppData\\Local\\Temp/ipykernel_14676/1357124804.py\u001b[0m in \u001b[0;36m<module>\u001b[1;34m\u001b[0m\n\u001b[0;32m     16\u001b[0m \u001b[1;33m\u001b[0m\u001b[0m\n\u001b[0;32m     17\u001b[0m \u001b[1;31m#k = ??\u001b[0m\u001b[1;33m\u001b[0m\u001b[1;33m\u001b[0m\u001b[0m\n\u001b[1;32m---> 18\u001b[1;33m \u001b[0mkNNPredictor\u001b[0m \u001b[1;33m=\u001b[0m \u001b[0m__kNN\u001b[0m\u001b[1;33m(\u001b[0m\u001b[0mtrainingFeatures2D\u001b[0m\u001b[1;33m,\u001b[0m \u001b[0mtrainingLabels\u001b[0m\u001b[1;33m,\u001b[0m \u001b[0mk\u001b[0m\u001b[1;33m)\u001b[0m\u001b[1;33m\u001b[0m\u001b[1;33m\u001b[0m\u001b[0m\n\u001b[0m\u001b[0;32m     19\u001b[0m \u001b[0mRFPredictor\u001b[0m  \u001b[1;33m=\u001b[0m \u001b[0m__randomForests\u001b[0m\u001b[1;33m(\u001b[0m\u001b[0mtrainingFeatures2D\u001b[0m\u001b[1;33m,\u001b[0m \u001b[0mtrainingLabels\u001b[0m\u001b[1;33m)\u001b[0m\u001b[1;33m\u001b[0m\u001b[1;33m\u001b[0m\u001b[0m\n\u001b[0;32m     20\u001b[0m \u001b[0m__visualizePredictions\u001b[0m\u001b[1;33m(\u001b[0m\u001b[0mkNNPredictor\u001b[0m\u001b[1;33m,\u001b[0m \u001b[0mtestingFeatures2D\u001b[0m\u001b[1;33m,\u001b[0m \u001b[0mtestingLabels\u001b[0m\u001b[1;33m)\u001b[0m\u001b[1;33m\u001b[0m\u001b[1;33m\u001b[0m\u001b[0m\n",
      "\u001b[1;31mNameError\u001b[0m: name '__kNN' is not defined"
     ]
    }
   ],
   "source": [
    "def __visualizePredictions(predictor, features, referenceLabels):\n",
    "    plt.figure()\n",
    "    cmap_light = ListedColormap(['#FFAAAA', '#AAFFAA', '#AAAAFF'])\n",
    "    cmap_bold  = ListedColormap(['#FF0000', '#00FF00', '#0000FF'])\n",
    "    h = 0.05\n",
    "    y = referenceLabels\n",
    "    #---put your code here\n",
    "    #--- it is expexted that you get xx and yy as coordinates for visualization, and Z as labels for area visualization\n",
    "    plt.pcolormesh(xx, yy, Z, cmap = cmap_light)\n",
    "    # Plot also the training points\n",
    "    plt.scatter(features[:, 0], features[:, 1], c = y, cmap = cmap_bold)\n",
    "    plt.xlim(xx.min(), xx.max())\n",
    "    plt.ylim(yy.min(), yy.max())\n",
    "    plt.show()\n",
    "\n",
    "\n",
    "#k = ??\n",
    "kNNPredictor = __kNN(trainingFeatures2D, trainingLabels, k)\n",
    "RFPredictor  = __randomForests(trainingFeatures2D, trainingLabels)\n",
    "__visualizePredictions(kNNPredictor, testingFeatures2D, testingLabels)\n",
    "__visualizePredictions(RFPredictor, testingFeatures2D, testingLabels)"
   ]
  }
 ],
 "metadata": {
  "kernelspec": {
   "display_name": "Python 3",
   "language": "python",
   "name": "python3"
  },
  "language_info": {
   "codemirror_mode": {
    "name": "ipython",
    "version": 3
   },
   "file_extension": ".py",
   "mimetype": "text/x-python",
   "name": "python",
   "nbconvert_exporter": "python",
   "pygments_lexer": "ipython3",
   "version": "3.10.0"
  }
 },
 "nbformat": 4,
 "nbformat_minor": 2
}
