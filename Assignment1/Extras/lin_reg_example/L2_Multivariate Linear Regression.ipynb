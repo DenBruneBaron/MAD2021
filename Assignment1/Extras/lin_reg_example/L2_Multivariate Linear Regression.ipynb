{
 "cells": [
  {
   "cell_type": "code",
   "execution_count": 1,
   "metadata": {},
   "outputs": [],
   "source": [
    "%matplotlib inline\n",
    "import matplotlib.pyplot as plt\n",
    "import numpy"
   ]
  },
  {
   "cell_type": "markdown",
   "metadata": {},
   "source": [
    "We shall work with the dataset found in the file 'murderdata.txt', which is a 20 x 5 data matrix where the columns correspond to\n",
    "\n",
    "Index (not for use in analysis)\n",
    "\n",
    "Number of inhabitants\n",
    "\n",
    "Percent with incomes below $5000\n",
    "\n",
    "Percent unemployed\n",
    "\n",
    "Murders per annum per 1,000,000 inhabitants\n",
    "\n",
    "**Reference:**\n",
    "\n",
    "Helmut Spaeth,\n",
    "Mathematical Algorithms for Linear Regression,\n",
    "Academic Press, 1991,\n",
    "ISBN 0-12-656460-4.\n",
    "\n",
    "D G Kleinbaum and L L Kupper,\n",
    "Applied Regression Analysis and Other Multivariable Methods,\n",
    "Duxbury Press, 1978, page 150.\n",
    "\n",
    "http://people.sc.fsu.edu/~jburkardt/datasets/regression\n",
    "\n",
    "**What to do?**\n",
    "\n",
    "We start by loading the data; today we will study how the number of murders relates to the percentage of unemployment."
   ]
  },
  {
   "cell_type": "code",
   "execution_count": 5,
   "metadata": {},
   "outputs": [],
   "source": [
    "data = numpy.loadtxt('murderdata.txt')\n",
    "N, d = data.shape"
   ]
  },
  {
   "cell_type": "markdown",
   "metadata": {},
   "source": [
    "We consider all both features simulaneously."
   ]
  },
  {
   "cell_type": "code",
   "execution_count": 8,
   "metadata": {},
   "outputs": [
    {
     "name": "stdout",
     "output_type": "stream",
     "text": [
      "Number of training instances: 20\n",
      "Number of features: 2\n"
     ]
    }
   ],
   "source": [
    "t = data[:,4]\n",
    "X = data[:,2:4]\n",
    "print(\"Number of training instances: %i\" % X.shape[0])\n",
    "print(\"Number of features: %i\" % X.shape[1])\n",
    "#print(t)\n",
    "#print(X)"
   ]
  },
  {
   "cell_type": "code",
   "execution_count": 11,
   "metadata": {},
   "outputs": [],
   "source": [
    "# NOTE: This template makes use of Python classes. If \n",
    "# you are not yet familiar with this concept, you can \n",
    "# find a short introduction here: \n",
    "# http://introtopython.org/classes.html\n",
    "\n",
    "class LinearRegression():\n",
    "    \"\"\"\n",
    "    Linear regression implementation.\n",
    "    \"\"\"\n",
    "\n",
    "    def __init__(self):\n",
    "        \n",
    "        pass\n",
    "            \n",
    "    def fit(self, X, t):\n",
    "        \"\"\"\n",
    "        Fits the linear regression model.\n",
    "\n",
    "        Parameters\n",
    "        ----------\n",
    "        X : Array of shape [n_samples, n_features]\n",
    "        t : Array of shape [n_samples, 1]\n",
    "        \"\"\"        \n",
    "\n",
    "        # make sure that we have Numpy arrays; also\n",
    "        # reshape the target array to ensure that we have\n",
    "        # a N-dimensional Numpy array (ndarray), see\n",
    "        # https://docs.scipy.org/doc/numpy-1.13.0/reference/arrays.ndarray.html\n",
    "        X = numpy.array(X).reshape((len(X), -1))\n",
    "        print(\"Reshaped array X\")\n",
    "        print(X)\n",
    "        t = numpy.array(t).reshape((len(t), 1))\n",
    "        print(\"Reshaped array t\")\n",
    "        print(t)\n",
    "\n",
    "        # prepend a column of ones\n",
    "        ones = numpy.ones((X.shape[0], 1))\n",
    "        print(\"creating array of ones\")\n",
    "        print(ones)\n",
    "        X = numpy.concatenate((ones, X), axis=1)\n",
    "        print(\"concatenating original X array and array of ones\")\n",
    "        print(X)\n",
    "        # compute weights  (matrix inverse)\n",
    "        self.w = numpy.linalg.pinv((numpy.dot(X.T, X)))\n",
    "        self.w = numpy.dot(self.w, X.T)\n",
    "        self.w = numpy.dot(self.w, t)\n",
    "        \n",
    "        # (2) TODO: Make use of numpy.linalg.solve instead!\n",
    "        # Reason: Inverting the matrix is not very stable\n",
    "        # from a numerical perspective; directly solving\n",
    "        # the linear system of equations is usually better.\n",
    "                \n",
    "    #def predict(self, X):\n",
    "        \"\"\"\n",
    "        Computes predictions for a new set of points.\n",
    "\n",
    "        Parameters\n",
    "        ----------\n",
    "        X : Array of shape [n_samples, n_features]\n",
    "\n",
    "        Returns\n",
    "        -------\n",
    "        predictions : Array of shape [n_samples, 1]\n",
    "        \"\"\"                     \n",
    "        \n",
    "        # (1) TODO: Compute the predictions for the\n",
    "        # array of input points\n",
    "        \n",
    "        # predictions = ...\n",
    "\n",
    "        #return predictions"
   ]
  },
  {
   "cell_type": "markdown",
   "metadata": {},
   "source": [
    "Next, let us instantiate a LinearRegression object and call the fit function."
   ]
  },
  {
   "cell_type": "code",
   "execution_count": 12,
   "metadata": {},
   "outputs": [
    {
     "name": "stdout",
     "output_type": "stream",
     "text": [
      "Reshaped array X\n",
      "[[16.5  6.2]\n",
      " [20.5  6.4]\n",
      " [26.3  9.3]\n",
      " [16.5  5.3]\n",
      " [19.2  7.3]\n",
      " [16.5  5.9]\n",
      " [20.2  6.4]\n",
      " [21.3  7.6]\n",
      " [17.2  4.9]\n",
      " [14.3  6.4]\n",
      " [18.1  6. ]\n",
      " [23.1  7.4]\n",
      " [19.1  5.8]\n",
      " [24.7  8.6]\n",
      " [18.6  6.5]\n",
      " [24.9  8.3]\n",
      " [17.9  6.7]\n",
      " [22.4  8.6]\n",
      " [20.2  8.4]\n",
      " [16.9  6.7]]\n",
      "Reshaped array t\n",
      "[[11.2]\n",
      " [13.4]\n",
      " [40.7]\n",
      " [ 5.3]\n",
      " [24.8]\n",
      " [12.7]\n",
      " [20.9]\n",
      " [35.7]\n",
      " [ 8.7]\n",
      " [ 9.6]\n",
      " [14.5]\n",
      " [26.9]\n",
      " [15.7]\n",
      " [36.2]\n",
      " [18.1]\n",
      " [28.9]\n",
      " [14.9]\n",
      " [25.8]\n",
      " [21.7]\n",
      " [25.7]]\n",
      "creating array of ones\n",
      "[[1.]\n",
      " [1.]\n",
      " [1.]\n",
      " [1.]\n",
      " [1.]\n",
      " [1.]\n",
      " [1.]\n",
      " [1.]\n",
      " [1.]\n",
      " [1.]\n",
      " [1.]\n",
      " [1.]\n",
      " [1.]\n",
      " [1.]\n",
      " [1.]\n",
      " [1.]\n",
      " [1.]\n",
      " [1.]\n",
      " [1.]\n",
      " [1.]]\n",
      "concatenating original X array and array of ones\n",
      "[[ 1.  16.5  6.2]\n",
      " [ 1.  20.5  6.4]\n",
      " [ 1.  26.3  9.3]\n",
      " [ 1.  16.5  5.3]\n",
      " [ 1.  19.2  7.3]\n",
      " [ 1.  16.5  5.9]\n",
      " [ 1.  20.2  6.4]\n",
      " [ 1.  21.3  7.6]\n",
      " [ 1.  17.2  4.9]\n",
      " [ 1.  14.3  6.4]\n",
      " [ 1.  18.1  6. ]\n",
      " [ 1.  23.1  7.4]\n",
      " [ 1.  19.1  5.8]\n",
      " [ 1.  24.7  8.6]\n",
      " [ 1.  18.6  6.5]\n",
      " [ 1.  24.9  8.3]\n",
      " [ 1.  17.9  6.7]\n",
      " [ 1.  22.4  8.6]\n",
      " [ 1.  20.2  8.4]\n",
      " [ 1.  16.9  6.7]]\n"
     ]
    }
   ],
   "source": [
    "model = LinearRegression()\n",
    "model.fit(X, t)"
   ]
  },
  {
   "cell_type": "markdown",
   "metadata": {},
   "source": [
    "We can also plot the computed model coefficients ..."
   ]
  },
  {
   "cell_type": "code",
   "execution_count": 13,
   "metadata": {},
   "outputs": [
    {
     "name": "stdout",
     "output_type": "stream",
     "text": [
      "Model coefficients:\n",
      "[[-34.07253343]\n",
      " [  1.2239307 ]\n",
      " [  4.39893583]]\n"
     ]
    }
   ],
   "source": [
    "print(\"Model coefficients:\")\n",
    "print(model.w)"
   ]
  },
  {
   "cell_type": "code",
   "execution_count": 14,
   "metadata": {},
   "outputs": [
    {
     "ename": "AttributeError",
     "evalue": "'LinearRegression' object has no attribute 'predict'",
     "output_type": "error",
     "traceback": [
      "\u001b[1;31m---------------------------------------------------------------------------\u001b[0m",
      "\u001b[1;31mAttributeError\u001b[0m                            Traceback (most recent call last)",
      "\u001b[1;32m~\\AppData\\Local\\Temp/ipykernel_14460/3619151291.py\u001b[0m in \u001b[0;36m<module>\u001b[1;34m\u001b[0m\n\u001b[0;32m      1\u001b[0m \u001b[1;31m# (c) evaluation of results\u001b[0m\u001b[1;33m\u001b[0m\u001b[1;33m\u001b[0m\u001b[0m\n\u001b[1;32m----> 2\u001b[1;33m \u001b[0mpreds\u001b[0m \u001b[1;33m=\u001b[0m \u001b[0mmodel\u001b[0m\u001b[1;33m.\u001b[0m\u001b[0mpredict\u001b[0m\u001b[1;33m(\u001b[0m\u001b[0mX\u001b[0m\u001b[1;33m)\u001b[0m\u001b[1;33m\u001b[0m\u001b[1;33m\u001b[0m\u001b[0m\n\u001b[0m\u001b[0;32m      3\u001b[0m \u001b[1;33m\u001b[0m\u001b[0m\n\u001b[0;32m      4\u001b[0m \u001b[0mplt\u001b[0m\u001b[1;33m.\u001b[0m\u001b[0mfigure\u001b[0m\u001b[1;33m(\u001b[0m\u001b[0mfigsize\u001b[0m\u001b[1;33m=\u001b[0m\u001b[1;33m(\u001b[0m\u001b[1;36m10\u001b[0m\u001b[1;33m,\u001b[0m\u001b[1;36m10\u001b[0m\u001b[1;33m)\u001b[0m\u001b[1;33m)\u001b[0m\u001b[1;33m\u001b[0m\u001b[1;33m\u001b[0m\u001b[0m\n\u001b[0;32m      5\u001b[0m \u001b[0mplt\u001b[0m\u001b[1;33m.\u001b[0m\u001b[0mscatter\u001b[0m\u001b[1;33m(\u001b[0m\u001b[0mt\u001b[0m\u001b[1;33m,\u001b[0m \u001b[0mpreds\u001b[0m\u001b[1;33m)\u001b[0m\u001b[1;33m\u001b[0m\u001b[1;33m\u001b[0m\u001b[0m\n",
      "\u001b[1;31mAttributeError\u001b[0m: 'LinearRegression' object has no attribute 'predict'"
     ]
    }
   ],
   "source": [
    "# (c) evaluation of results\n",
    "preds = model.predict(X)\n",
    "\n",
    "plt.figure(figsize=(10,10))\n",
    "plt.scatter(t, preds)\n",
    "plt.xlabel(\"Murders per annum per 1,000,000 inhabitants\")\n",
    "plt.ylabel(\"Predictions\")\n",
    "plt.xlim([0,50])\n",
    "plt.ylim([0,50])\n",
    "plt.title(\"Evaluation\")\n",
    "plt.show()"
   ]
  },
  {
   "cell_type": "code",
   "execution_count": null,
   "metadata": {},
   "outputs": [],
   "source": []
  }
 ],
 "metadata": {
  "anaconda-cloud": {},
  "kernelspec": {
   "display_name": "Python 3",
   "language": "python",
   "name": "python3"
  },
  "language_info": {
   "codemirror_mode": {
    "name": "ipython",
    "version": 3
   },
   "file_extension": ".py",
   "mimetype": "text/x-python",
   "name": "python",
   "nbconvert_exporter": "python",
   "pygments_lexer": "ipython3",
   "version": "3.10.0"
  }
 },
 "nbformat": 4,
 "nbformat_minor": 1
}
